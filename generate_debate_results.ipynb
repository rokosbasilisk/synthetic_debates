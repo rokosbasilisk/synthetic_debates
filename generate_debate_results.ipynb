{
 "cells": [
  {
   "cell_type": "code",
   "execution_count": 4,
   "id": "78eb7d9a",
   "metadata": {},
   "outputs": [],
   "source": [
    "#!/usr/bin/env python\n",
    "# coding: utf-8\n",
    "\n",
    "\n",
    "import openai\n",
    "import jsonlines\n",
    "import os\n",
    "import time\n",
    "from tqdm import tqdm\n",
    "import json"
   ]
  },
  {
   "cell_type": "code",
   "execution_count": 3,
   "id": "04a30687",
   "metadata": {},
   "outputs": [
    {
     "name": "stderr",
     "output_type": "stream",
     "text": [
      "100%|█████████████████████████████████████████████████████████████████████████████████████████████████████| 189/189 [02:53<00:00,  1.09it/s]\n"
     ]
    }
   ],
   "source": [
    "openai.api_key = os.environ[\"OPENAI_API_KEY\"]\n",
    "\n",
    "\n",
    "\n",
    "data_path = \"debates_data.jsonl\"\n",
    "debate_data = [] # your list with json objects (dicts)\n",
    "\n",
    "with jsonlines.open(data_path) as reader:\n",
    "    for line in reader:\n",
    "        debate_data.append(line)\n",
    "\n",
    "\n",
    "def get_debate_result(debate_message):\n",
    "    \n",
    "    topic = debate_message[\"topic\"]\n",
    "    \n",
    "    debate_transcript = debate_message[\"transcript\"]\n",
    "\n",
    "    prompt = f\"\"\"\n",
    "    Here's the corrected version:\n",
    "    \"For the given debate topic {topic}, observe the sample debate: {debate_transcript}. You have to determine who won the debate—Alice or Bob. You should never answer 'neither'; always state who is better. Additionally, provide a one-line review explaining why you made that choice. Your response should follow this format:\n",
    "    Winner: Alice\n",
    "    Reason: Alice's arguments are more in line with the topic, especially in the first and last places ...etc.\"\"\"\n",
    "    completion = openai.chat.completions.create(model=\"gpt-3.5-turbo-0125\", messages=[{\"role\": \"user\",\"content\":prompt}, ], temperature=0.3)\n",
    "    \n",
    "    result = completion.choices[0].message.content\n",
    "    \n",
    "    return {\"transcript\":debate_transcript, \"result\":result}\n",
    "\n",
    "\n",
    "debate_results = {}\n",
    "for debate in tqdm(debate_data):\n",
    "    debate_results[debate[\"topic\"]] = get_debate_result(debate)"
   ]
  },
  {
   "cell_type": "code",
   "execution_count": 5,
   "id": "ff734b4f",
   "metadata": {},
   "outputs": [],
   "source": [
    "with open(\"debate_results.json\",\"w\") as f:\n",
    "    f.write(json.dumps(debate_results))"
   ]
  },
  {
   "cell_type": "code",
   "execution_count": 10,
   "id": "2d69ef1a",
   "metadata": {},
   "outputs": [
    {
     "data": {
      "text/plain": [
       "['Winner: Bob',\n",
       " \"Reason: Bob effectively countered Alice's arguments by highlighting capitalism's ability to support innovation through competition and partnerships with non-capitalist sectors, demonstrating a comprehensive understanding of the topic.\"]"
      ]
     },
     "execution_count": 10,
     "metadata": {},
     "output_type": "execute_result"
    }
   ],
   "source": [
    "list(debate_results.values())[0]['result'].split(\"\\n\")"
   ]
  },
  {
   "cell_type": "code",
   "execution_count": null,
   "id": "b5947022",
   "metadata": {},
   "outputs": [],
   "source": [
    "debate_results"
   ]
  }
 ],
 "metadata": {
  "kernelspec": {
   "display_name": "Python 3",
   "language": "python",
   "name": "python3"
  },
  "language_info": {
   "codemirror_mode": {
    "name": "ipython",
    "version": 3
   },
   "file_extension": ".py",
   "mimetype": "text/x-python",
   "name": "python",
   "nbconvert_exporter": "python",
   "pygments_lexer": "ipython3",
   "version": "3.11.5"
  }
 },
 "nbformat": 4,
 "nbformat_minor": 5
}
